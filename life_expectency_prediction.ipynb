{
 "cells": [
  {
   "cell_type": "markdown",
   "metadata": {},
   "source": [
    "# importing_libraries"
   ]
  },
  {
   "cell_type": "code",
   "execution_count": 1,
   "metadata": {},
   "outputs": [],
   "source": [
    "from pandas import Series,DataFrame\n",
    "import numpy as np\n",
    "import pandas as pd\n",
    "import matplotlib.pyplot as plt\n",
    "%matplotlib inline\n",
    "import seaborn as sns\n",
    "sns.set_style(\"whitegrid\")\n",
    "import statistics\n",
    "from scipy import stats"
   ]
  },
  {
   "cell_type": "code",
   "execution_count": 2,
   "metadata": {},
   "outputs": [],
   "source": [
    "from sklearn.linear_model import LinearRegression,LogisticRegression\n",
    "from sklearn.tree import DecisionTreeClassifier\n",
    "from sklearn.ensemble import RandomForestClassifier,AdaBoostClassifier,GradientBoostingClassifier\n",
    "import xgboost as xgb\n",
    "from sklearn.model_selection import train_test_split\n",
    "from sklearn.metrics import accuracy_score,confusion_matrix,mean_squared_error\n",
    "from sklearn import preprocessing\n",
    "from sklearn.preprocessing import PolynomialFeatures\n",
    "from sklearn.model_selection import RandomizedSearchCV,GridSearchCV"
   ]
  },
  {
   "cell_type": "code",
   "execution_count": 3,
   "metadata": {},
   "outputs": [],
   "source": [
    "from statsmodels.formula.api import ols\n",
    "from sklearn.preprocessing import StandardScaler"
   ]
  },
  {
   "cell_type": "markdown",
   "metadata": {},
   "source": [
    "# importing_data"
   ]
  },
  {
   "cell_type": "code",
   "execution_count": 4,
   "metadata": {},
   "outputs": [],
   "source": [
    "df=pd.read_csv(\"ahs-mort-odisha-sundargarh.csv\")"
   ]
  },
  {
   "cell_type": "code",
   "execution_count": 5,
   "metadata": {},
   "outputs": [],
   "source": [
    "df1=df[[\"rural\",\"stratum_code\",\"deceased_sex\",\n",
    "    \"age_of_death_above_one_year\",\"treatment_source\",\"place_of_death\",\"month_of_death\",\"year_of_death\",\"member_identity\",\n",
    "    \"social_group_code\",\"marital_status\",\"year_of_marriage\",\"highest_qualification\",\"occupation_status\",\"disability_status\",\n",
    "    \"chew\",\"smoke\",\"alcohol\",\"house_structure\",\"drinking_water_source\",\"household_have_electricity\",\"lighting_source\",\n",
    "    \"cooking_fuel\",\"no_of_dwelling_rooms\"]]"
   ]
  },
  {
   "cell_type": "code",
   "execution_count": 6,
   "metadata": {},
   "outputs": [
    {
     "data": {
      "text/plain": [
       "array([2011, 2009, 2008, 2007], dtype=int64)"
      ]
     },
     "execution_count": 6,
     "metadata": {},
     "output_type": "execute_result"
    }
   ],
   "source": [
    "df1[\"year_of_death\"].unique()"
   ]
  },
  {
   "cell_type": "code",
   "execution_count": 7,
   "metadata": {},
   "outputs": [
    {
     "data": {
      "text/html": [
       "<div>\n",
       "<style scoped>\n",
       "    .dataframe tbody tr th:only-of-type {\n",
       "        vertical-align: middle;\n",
       "    }\n",
       "\n",
       "    .dataframe tbody tr th {\n",
       "        vertical-align: top;\n",
       "    }\n",
       "\n",
       "    .dataframe thead th {\n",
       "        text-align: right;\n",
       "    }\n",
       "</style>\n",
       "<table border=\"1\" class=\"dataframe\">\n",
       "  <thead>\n",
       "    <tr style=\"text-align: right;\">\n",
       "      <th></th>\n",
       "      <th>rural</th>\n",
       "      <th>stratum_code</th>\n",
       "      <th>deceased_sex</th>\n",
       "      <th>age_of_death_above_one_year</th>\n",
       "      <th>treatment_source</th>\n",
       "      <th>place_of_death</th>\n",
       "      <th>month_of_death</th>\n",
       "      <th>year_of_death</th>\n",
       "      <th>member_identity</th>\n",
       "      <th>social_group_code</th>\n",
       "      <th>...</th>\n",
       "      <th>disability_status</th>\n",
       "      <th>chew</th>\n",
       "      <th>smoke</th>\n",
       "      <th>alcohol</th>\n",
       "      <th>house_structure</th>\n",
       "      <th>drinking_water_source</th>\n",
       "      <th>household_have_electricity</th>\n",
       "      <th>lighting_source</th>\n",
       "      <th>cooking_fuel</th>\n",
       "      <th>no_of_dwelling_rooms</th>\n",
       "    </tr>\n",
       "  </thead>\n",
       "  <tbody>\n",
       "    <tr>\n",
       "      <th>0</th>\n",
       "      <td>Rural</td>\n",
       "      <td>200&lt;population&lt;2000</td>\n",
       "      <td>Male</td>\n",
       "      <td>51.0</td>\n",
       "      <td>Government PHC</td>\n",
       "      <td>In health facility</td>\n",
       "      <td>0</td>\n",
       "      <td>2011</td>\n",
       "      <td>238.0</td>\n",
       "      <td>Others</td>\n",
       "      <td>...</td>\n",
       "      <td>No Disability</td>\n",
       "      <td>Never chewed</td>\n",
       "      <td>Never smoked</td>\n",
       "      <td>Never drank</td>\n",
       "      <td>Pucca</td>\n",
       "      <td>Hand pump</td>\n",
       "      <td>Yes</td>\n",
       "      <td>Kerosene</td>\n",
       "      <td>Firewood</td>\n",
       "      <td>4.0</td>\n",
       "    </tr>\n",
       "    <tr>\n",
       "      <th>1</th>\n",
       "      <td>Rural</td>\n",
       "      <td>200&lt;population&lt;2000</td>\n",
       "      <td>Female</td>\n",
       "      <td>67.0</td>\n",
       "      <td>No Medical attention</td>\n",
       "      <td>At home</td>\n",
       "      <td>0</td>\n",
       "      <td>2011</td>\n",
       "      <td>1.0</td>\n",
       "      <td>ST</td>\n",
       "      <td>...</td>\n",
       "      <td>No Disability</td>\n",
       "      <td>Never chewed</td>\n",
       "      <td>Never smoked</td>\n",
       "      <td>Never drank</td>\n",
       "      <td>Kuccha</td>\n",
       "      <td>Hand pump</td>\n",
       "      <td>No</td>\n",
       "      <td>Kerosene</td>\n",
       "      <td>Firewood</td>\n",
       "      <td>2.0</td>\n",
       "    </tr>\n",
       "  </tbody>\n",
       "</table>\n",
       "<p>2 rows × 24 columns</p>\n",
       "</div>"
      ],
      "text/plain": [
       "   rural         stratum_code deceased_sex  age_of_death_above_one_year  \\\n",
       "0  Rural  200<population<2000         Male                         51.0   \n",
       "1  Rural  200<population<2000       Female                         67.0   \n",
       "\n",
       "       treatment_source      place_of_death  month_of_death  year_of_death  \\\n",
       "0        Government PHC  In health facility               0           2011   \n",
       "1  No Medical attention             At home               0           2011   \n",
       "\n",
       "   member_identity social_group_code         ...          disability_status  \\\n",
       "0            238.0            Others         ...              No Disability   \n",
       "1              1.0                ST         ...              No Disability   \n",
       "\n",
       "           chew         smoke      alcohol house_structure  \\\n",
       "0  Never chewed  Never smoked  Never drank           Pucca   \n",
       "1  Never chewed  Never smoked  Never drank          Kuccha   \n",
       "\n",
       "  drinking_water_source household_have_electricity lighting_source  \\\n",
       "0             Hand pump                        Yes        Kerosene   \n",
       "1             Hand pump                         No        Kerosene   \n",
       "\n",
       "  cooking_fuel no_of_dwelling_rooms  \n",
       "0     Firewood                  4.0  \n",
       "1     Firewood                  2.0  \n",
       "\n",
       "[2 rows x 24 columns]"
      ]
     },
     "execution_count": 7,
     "metadata": {},
     "output_type": "execute_result"
    }
   ],
   "source": [
    "#df1.to_csv(\"anual_health_survey.csv\")\n",
    "df1.head(2)"
   ]
  },
  {
   "cell_type": "markdown",
   "metadata": {},
   "source": [
    "# data pre_processing"
   ]
  },
  {
   "cell_type": "code",
   "execution_count": 8,
   "metadata": {},
   "outputs": [],
   "source": [
    "def cat(cl):\n",
    "    c=pd.get_dummies(df1[cl]).columns\n",
    "    n=(len(df1[cl].values))\n",
    "    ar=np.zeros(n)\n",
    "    for i in np.arange(len(c)):\n",
    "        for j in np.arange(n):\n",
    "            if c[i]==df1[cl][j]:\n",
    "                ar[j]=i\n",
    "    return(ar)"
   ]
  },
  {
   "cell_type": "code",
   "execution_count": 9,
   "metadata": {},
   "outputs": [],
   "source": [
    "def replacer_mean(dff):\n",
    "    dff1=dff\n",
    "    r0=np.mean(dff)\n",
    "    r1=r0.index\n",
    "    r2=r0.values\n",
    "    for i in np.arange(len(r1)):\n",
    "          ri=r1[i]\n",
    "          rv=r2[i]\n",
    "          dff1[ri].fillna(value=rv)\n",
    "          dff1[ri]=(nan_remover(dff[ri].values,rv))\n",
    "    return(dff1)\n",
    "def nan_remover(v,vm):\n",
    "    vr=[]\n",
    "    for i in np.arange(len(v)):\n",
    "        if str(v[i])==\"nan\":\n",
    "            vr=np.append(vr,vm)\n",
    "        else:\n",
    "            vr=np.append(vr,v[i])\n",
    "    return(vr)\n",
    "def numriser(a):\n",
    "    a1=[]\n",
    "    for i in np.arange(len(a)):\n",
    "        a1=np.append(a1,round(a[i]))\n",
    "    return(a1)\n",
    "\n",
    "def substi(ar,s):\n",
    "    n=len(ar)\n",
    "    sum1=0\n",
    "    for i in np.arange(n):\n",
    "        j=ar[i]\n",
    "        df_c1[\"interval\"][j]=s\n",
    "        #sum1=sum1+ar[i]\n",
    "    return(df_c1)\n",
    "def inret(y,m):\n",
    "    return(np.where((df_c1[\"year_of_death\"]==y) & (df_c1[\"month_of_death\"]==m))[0])"
   ]
  },
  {
   "cell_type": "code",
   "execution_count": 10,
   "metadata": {},
   "outputs": [
    {
     "data": {
      "text/plain": [
       "array([0., 0., 0., ..., 1., 1., 1.])"
      ]
     },
     "execution_count": 10,
     "metadata": {},
     "output_type": "execute_result"
    }
   ],
   "source": [
    "(cat(\"rural\"))"
   ]
  },
  {
   "cell_type": "code",
   "execution_count": 11,
   "metadata": {},
   "outputs": [],
   "source": [
    "r1=[]\n",
    "for i in np.arange(len(df1[\"rural\"].values)):\n",
    "    if df1[\"rural\"][i]==\"Rural\":\n",
    "        r1=np.append(r1,0)\n",
    "    else:\n",
    "        r1=np.append(r1,1)\n",
    "r2=[]\n",
    "for i in np.arange(len(df1[\"rural\"].values)):\n",
    "    if df1[\"stratum_code\"][i]==\"200<population<2000\":\n",
    "        r2=np.append(r2,0)\n",
    "    elif df1[\"stratum_code\"][i]==\"population>=2000\":\n",
    "        r2=np.append(r2,2)\n",
    "    else:\n",
    "        r2=np.append(r2,1)\n",
    "r3=[]\n",
    "for i in np.arange(len(df1[\"rural\"].values)):\n",
    "    if df1[\"deceased_sex\"][i]==\"Male\":\n",
    "        r3=np.append(r3,1)\n",
    "    else:\n",
    "        r3=np.append(r3,0)\n",
    "r4=[]\n",
    "for i in np.arange(len(df1[\"treatment_source\"].values)):\n",
    "    if (df1[\"treatment_source\"][i]==\"At Home\") or (df1[\"treatment_source\"][i]==\"No Medical attention\") or (df1[\"treatment_source\"][i]==\"Others\"):\n",
    "        r4=np.append(r4,0)\n",
    "    elif (df1[\"treatment_source\"][i][0:9]==\"Governmen\") or (df1[\"treatment_source\"][i][0:9]==\"NGO or Trust Hosp/Clinic\"):\n",
    "        r4=np.append(r4,1)\n",
    "    else:\n",
    "        r4=np.append(r4,2)\n",
    "r5=[]\n",
    "for i in np.arange(len(df1[\"treatment_source\"].values)):\n",
    "    if (df1[\"treatment_source\"][i]==\"At home\"):\n",
    "        r5=np.append(r5,0)\n",
    "    elif (df1[\"treatment_source\"][i][0:9]==\"In health facility\"):\n",
    "        r5=np.append(r5,2)\n",
    "    elif (df1[\"treatment_source\"][i][0:9]==\"In-transit\"):\n",
    "        r5=np.append(r5,1)\n",
    "    else:\n",
    "        r5=np.append(r5,3)\n",
    "r6=[]\n",
    "for i in np.arange(len(df1[\"social_group_code\"].values)):\n",
    "    if (df1[\"social_group_code\"][i]==\"SC\"):\n",
    "        r6=np.append(r6,0)\n",
    "    elif (df1[\"treatment_source\"][i]==\"ST\"):\n",
    "        r6=np.append(r6,1)\n",
    "    else:\n",
    "        r6=np.append(r6,2)\n",
    "r7=[]\n",
    "for i in np.arange(len(df1[\"marital_status\"].values)):\n",
    "    if (df1[\"marital_status\"][i]==\"Divorced\"):\n",
    "        r7=np.append(r7,0)\n",
    "    elif (df1[\"marital_status\"][i]==\"Married and Gauna performed\") or (df1[\"marital_status\"][i]==\"Married but Gauna not performed\" ):\n",
    "        r7=np.append(r7,1)\n",
    "    elif (df1[\"marital_status\"][i]==\"Never married\"):\n",
    "        r7=np.append(r7,2)\n",
    "    elif (df1[\"marital_status\"][i]==\"Not stated\"):\n",
    "        r7=np.append(r7,3)\n",
    "    elif (df1[\"marital_status\"][i]==\"Remarried\"):\n",
    "        r7=np.append(r7,4)\n",
    "    elif (df1[\"marital_status\"][i]==\"Separated\"):\n",
    "        r7=np.append(r7,5)\n",
    "    else:\n",
    "        r7=np.append(r7,6)\n",
    "r8=[]\n",
    "for i in np.arange(len(df1[\"rural\"].values)):\n",
    "    if (df1[\"highest_qualification\"][i]==\"Illiterate\") or (df1[\"highest_qualification\"][i]==\"Literate With formal education-Below primary\") or (df1[\"highest_qualification\"][i]==\"Literate Without formal education\"):\n",
    "        r8=np.append(r8,0)\n",
    "    else:\n",
    "        r8=np.append(r8,1)\n",
    "r9=[]\n",
    "for i in np.arange(len(df1[\"rural\"].values)):\n",
    "    if (df1[\"occupation_status\"][i]==\"Agricultural Wage labourer\") or (df1[\"occupation_status\"][i]==\"Cultivator\") or (df1[\"occupation_status\"][i]==\"Attending routine domestic chores etc.\"):\n",
    "        r9=np.append(r9,0)\n",
    "    elif  (df1[\"occupation_status\"][i]==\"Too old to work\") or (df1[\"occupation_status\"][i]==\"Not able to work due to disability\"):\n",
    "        r9=np.append(r9,1)\n",
    "    else:\n",
    "        r9=np.append(r9,2)\n",
    "r10=[]\n",
    "for i in np.arange(len(df1[\"rural\"].values)):\n",
    "    if (df1[\"disability_status\"][i]==\"Hearing\"):\n",
    "        r10=np.append(r10,1)\n",
    "    elif (df1[\"disability_status\"][i]==\"Locomotor\"):\n",
    "        r10=np.append(r10,2)\n",
    "    elif (df1[\"disability_status\"][i]==\"Mental\"):\n",
    "        r10=np.append(r10,3)\n",
    "    elif (df1[\"disability_status\"][i]==\"No Disability\"):\n",
    "        r10=np.append(r10,0)\n",
    "    elif (df1[\"disability_status\"][i]==\"Speech\"):\n",
    "        r10=np.append(r10,1)\n",
    "    else:\n",
    "        r10=np.append(r10,4)"
   ]
  },
  {
   "cell_type": "code",
   "execution_count": 12,
   "metadata": {},
   "outputs": [
    {
     "data": {
      "text/plain": [
       "Index(['rural', 'stratum_code', 'deceased_sex', 'age_of_death_above_one_year',\n",
       "       'treatment_source', 'place_of_death', 'month_of_death', 'year_of_death',\n",
       "       'member_identity', 'social_group_code', 'marital_status',\n",
       "       'year_of_marriage', 'highest_qualification', 'occupation_status',\n",
       "       'disability_status', 'chew', 'smoke', 'alcohol', 'house_structure',\n",
       "       'drinking_water_source', 'household_have_electricity',\n",
       "       'lighting_source', 'cooking_fuel', 'no_of_dwelling_rooms'],\n",
       "      dtype='object')"
      ]
     },
     "execution_count": 12,
     "metadata": {},
     "output_type": "execute_result"
    }
   ],
   "source": [
    "df1.columns"
   ]
  },
  {
   "cell_type": "code",
   "execution_count": 13,
   "metadata": {},
   "outputs": [
    {
     "data": {
      "text/plain": [
       "0    Firewood\n",
       "Name: cooking_fuel, dtype: object"
      ]
     },
     "execution_count": 13,
     "metadata": {},
     "output_type": "execute_result"
    }
   ],
   "source": [
    "df1[\"cooking_fuel\"][0:1]"
   ]
  },
  {
   "cell_type": "code",
   "execution_count": 11,
   "metadata": {},
   "outputs": [],
   "source": [
    "txt=[\"rural\",\"stratum_code\",\"deceased_sex\",\"treatment_source\",\"place_of_death\",\"social_group_code\",\"marital_status\",\n",
    "       \"highest_qualification\",\"occupation_status\",\"disability_status\", \"chew\",\"smoke\",\"alcohol\",\"house_structure\",\"drinking_water_source\",\n",
    "    \"household_have_electricity\",\"lighting_source\",\"cooking_fuel\"]"
   ]
  },
  {
   "cell_type": "code",
   "execution_count": 12,
   "metadata": {},
   "outputs": [
    {
     "name": "stderr",
     "output_type": "stream",
     "text": [
      "c:\\users\\dell\\appdata\\local\\programs\\python\\python37\\lib\\site-packages\\ipykernel_launcher.py:2: SettingWithCopyWarning: \n",
      "A value is trying to be set on a copy of a slice from a DataFrame.\n",
      "Try using .loc[row_indexer,col_indexer] = value instead\n",
      "\n",
      "See the caveats in the documentation: http://pandas.pydata.org/pandas-docs/stable/indexing.html#indexing-view-versus-copy\n",
      "  \n"
     ]
    }
   ],
   "source": [
    "for j in (txt):\n",
    "    df1[j]=cat(j)"
   ]
  },
  {
   "cell_type": "code",
   "execution_count": 13,
   "metadata": {},
   "outputs": [
    {
     "name": "stderr",
     "output_type": "stream",
     "text": [
      "c:\\users\\dell\\appdata\\local\\programs\\python\\python37\\lib\\site-packages\\ipykernel_launcher.py:10: SettingWithCopyWarning: \n",
      "A value is trying to be set on a copy of a slice from a DataFrame.\n",
      "Try using .loc[row_indexer,col_indexer] = value instead\n",
      "\n",
      "See the caveats in the documentation: http://pandas.pydata.org/pandas-docs/stable/indexing.html#indexing-view-versus-copy\n",
      "  # Remove the CWD from sys.path while we load stuff.\n"
     ]
    }
   ],
   "source": [
    "r0=(np.mean(df1))\n",
    "r1=r0.index\n",
    "r2=r0.values\n",
    "df2=df1\n",
    "df1=replacer_mean(df2)"
   ]
  },
  {
   "cell_type": "code",
   "execution_count": 14,
   "metadata": {},
   "outputs": [],
   "source": [
    "y=df1[\"age_of_death_above_one_year\"].values\n",
    "df1=df1.drop([\"age_of_death_above_one_year\",\"year_of_death\",\"month_of_death\"],axis=1)"
   ]
  },
  {
   "cell_type": "code",
   "execution_count": 15,
   "metadata": {},
   "outputs": [
    {
     "name": "stderr",
     "output_type": "stream",
     "text": [
      "c:\\users\\dell\\appdata\\local\\programs\\python\\python37\\lib\\site-packages\\ipykernel_launcher.py:5: SettingWithCopyWarning: \n",
      "A value is trying to be set on a copy of a slice from a DataFrame.\n",
      "Try using .loc[row_indexer,col_indexer] = value instead\n",
      "\n",
      "See the caveats in the documentation: http://pandas.pydata.org/pandas-docs/stable/indexing.html#indexing-view-versus-copy\n",
      "  \"\"\"\n",
      "c:\\users\\dell\\appdata\\local\\programs\\python\\python37\\lib\\site-packages\\ipykernel_launcher.py:5: SettingWithCopyWarning: \n",
      "A value is trying to be set on a copy of a slice from a DataFrame.\n",
      "Try using .loc[row_indexer,col_indexer] = value instead\n",
      "\n",
      "See the caveats in the documentation: http://pandas.pydata.org/pandas-docs/stable/indexing.html#indexing-view-versus-copy\n",
      "  \"\"\"\n",
      "c:\\users\\dell\\appdata\\local\\programs\\python\\python37\\lib\\site-packages\\ipykernel_launcher.py:5: SettingWithCopyWarning: \n",
      "A value is trying to be set on a copy of a slice from a DataFrame.\n",
      "Try using .loc[row_indexer,col_indexer] = value instead\n",
      "\n",
      "See the caveats in the documentation: http://pandas.pydata.org/pandas-docs/stable/indexing.html#indexing-view-versus-copy\n",
      "  \"\"\"\n",
      "c:\\users\\dell\\appdata\\local\\programs\\python\\python37\\lib\\site-packages\\ipykernel_launcher.py:5: SettingWithCopyWarning: \n",
      "A value is trying to be set on a copy of a slice from a DataFrame.\n",
      "Try using .loc[row_indexer,col_indexer] = value instead\n",
      "\n",
      "See the caveats in the documentation: http://pandas.pydata.org/pandas-docs/stable/indexing.html#indexing-view-versus-copy\n",
      "  \"\"\"\n",
      "c:\\users\\dell\\appdata\\local\\programs\\python\\python37\\lib\\site-packages\\ipykernel_launcher.py:5: SettingWithCopyWarning: \n",
      "A value is trying to be set on a copy of a slice from a DataFrame.\n",
      "Try using .loc[row_indexer,col_indexer] = value instead\n",
      "\n",
      "See the caveats in the documentation: http://pandas.pydata.org/pandas-docs/stable/indexing.html#indexing-view-versus-copy\n",
      "  \"\"\"\n",
      "c:\\users\\dell\\appdata\\local\\programs\\python\\python37\\lib\\site-packages\\ipykernel_launcher.py:5: SettingWithCopyWarning: \n",
      "A value is trying to be set on a copy of a slice from a DataFrame.\n",
      "Try using .loc[row_indexer,col_indexer] = value instead\n",
      "\n",
      "See the caveats in the documentation: http://pandas.pydata.org/pandas-docs/stable/indexing.html#indexing-view-versus-copy\n",
      "  \"\"\"\n",
      "c:\\users\\dell\\appdata\\local\\programs\\python\\python37\\lib\\site-packages\\ipykernel_launcher.py:5: SettingWithCopyWarning: \n",
      "A value is trying to be set on a copy of a slice from a DataFrame.\n",
      "Try using .loc[row_indexer,col_indexer] = value instead\n",
      "\n",
      "See the caveats in the documentation: http://pandas.pydata.org/pandas-docs/stable/indexing.html#indexing-view-versus-copy\n",
      "  \"\"\"\n",
      "c:\\users\\dell\\appdata\\local\\programs\\python\\python37\\lib\\site-packages\\ipykernel_launcher.py:5: SettingWithCopyWarning: \n",
      "A value is trying to be set on a copy of a slice from a DataFrame.\n",
      "Try using .loc[row_indexer,col_indexer] = value instead\n",
      "\n",
      "See the caveats in the documentation: http://pandas.pydata.org/pandas-docs/stable/indexing.html#indexing-view-versus-copy\n",
      "  \"\"\"\n",
      "c:\\users\\dell\\appdata\\local\\programs\\python\\python37\\lib\\site-packages\\ipykernel_launcher.py:5: SettingWithCopyWarning: \n",
      "A value is trying to be set on a copy of a slice from a DataFrame.\n",
      "Try using .loc[row_indexer,col_indexer] = value instead\n",
      "\n",
      "See the caveats in the documentation: http://pandas.pydata.org/pandas-docs/stable/indexing.html#indexing-view-versus-copy\n",
      "  \"\"\"\n",
      "c:\\users\\dell\\appdata\\local\\programs\\python\\python37\\lib\\site-packages\\ipykernel_launcher.py:5: SettingWithCopyWarning: \n",
      "A value is trying to be set on a copy of a slice from a DataFrame.\n",
      "Try using .loc[row_indexer,col_indexer] = value instead\n",
      "\n",
      "See the caveats in the documentation: http://pandas.pydata.org/pandas-docs/stable/indexing.html#indexing-view-versus-copy\n",
      "  \"\"\"\n",
      "c:\\users\\dell\\appdata\\local\\programs\\python\\python37\\lib\\site-packages\\ipykernel_launcher.py:5: SettingWithCopyWarning: \n",
      "A value is trying to be set on a copy of a slice from a DataFrame.\n",
      "Try using .loc[row_indexer,col_indexer] = value instead\n",
      "\n",
      "See the caveats in the documentation: http://pandas.pydata.org/pandas-docs/stable/indexing.html#indexing-view-versus-copy\n",
      "  \"\"\"\n",
      "c:\\users\\dell\\appdata\\local\\programs\\python\\python37\\lib\\site-packages\\ipykernel_launcher.py:5: SettingWithCopyWarning: \n",
      "A value is trying to be set on a copy of a slice from a DataFrame.\n",
      "Try using .loc[row_indexer,col_indexer] = value instead\n",
      "\n",
      "See the caveats in the documentation: http://pandas.pydata.org/pandas-docs/stable/indexing.html#indexing-view-versus-copy\n",
      "  \"\"\"\n",
      "c:\\users\\dell\\appdata\\local\\programs\\python\\python37\\lib\\site-packages\\ipykernel_launcher.py:5: SettingWithCopyWarning: \n",
      "A value is trying to be set on a copy of a slice from a DataFrame.\n",
      "Try using .loc[row_indexer,col_indexer] = value instead\n",
      "\n",
      "See the caveats in the documentation: http://pandas.pydata.org/pandas-docs/stable/indexing.html#indexing-view-versus-copy\n",
      "  \"\"\"\n",
      "c:\\users\\dell\\appdata\\local\\programs\\python\\python37\\lib\\site-packages\\ipykernel_launcher.py:5: SettingWithCopyWarning: \n",
      "A value is trying to be set on a copy of a slice from a DataFrame.\n",
      "Try using .loc[row_indexer,col_indexer] = value instead\n",
      "\n",
      "See the caveats in the documentation: http://pandas.pydata.org/pandas-docs/stable/indexing.html#indexing-view-versus-copy\n",
      "  \"\"\"\n",
      "c:\\users\\dell\\appdata\\local\\programs\\python\\python37\\lib\\site-packages\\ipykernel_launcher.py:5: SettingWithCopyWarning: \n",
      "A value is trying to be set on a copy of a slice from a DataFrame.\n",
      "Try using .loc[row_indexer,col_indexer] = value instead\n",
      "\n",
      "See the caveats in the documentation: http://pandas.pydata.org/pandas-docs/stable/indexing.html#indexing-view-versus-copy\n",
      "  \"\"\"\n",
      "c:\\users\\dell\\appdata\\local\\programs\\python\\python37\\lib\\site-packages\\ipykernel_launcher.py:5: SettingWithCopyWarning: \n",
      "A value is trying to be set on a copy of a slice from a DataFrame.\n",
      "Try using .loc[row_indexer,col_indexer] = value instead\n",
      "\n",
      "See the caveats in the documentation: http://pandas.pydata.org/pandas-docs/stable/indexing.html#indexing-view-versus-copy\n",
      "  \"\"\"\n",
      "c:\\users\\dell\\appdata\\local\\programs\\python\\python37\\lib\\site-packages\\ipykernel_launcher.py:5: SettingWithCopyWarning: \n",
      "A value is trying to be set on a copy of a slice from a DataFrame.\n",
      "Try using .loc[row_indexer,col_indexer] = value instead\n",
      "\n",
      "See the caveats in the documentation: http://pandas.pydata.org/pandas-docs/stable/indexing.html#indexing-view-versus-copy\n",
      "  \"\"\"\n",
      "c:\\users\\dell\\appdata\\local\\programs\\python\\python37\\lib\\site-packages\\ipykernel_launcher.py:5: SettingWithCopyWarning: \n",
      "A value is trying to be set on a copy of a slice from a DataFrame.\n",
      "Try using .loc[row_indexer,col_indexer] = value instead\n",
      "\n",
      "See the caveats in the documentation: http://pandas.pydata.org/pandas-docs/stable/indexing.html#indexing-view-versus-copy\n",
      "  \"\"\"\n",
      "c:\\users\\dell\\appdata\\local\\programs\\python\\python37\\lib\\site-packages\\ipykernel_launcher.py:5: SettingWithCopyWarning: \n",
      "A value is trying to be set on a copy of a slice from a DataFrame.\n",
      "Try using .loc[row_indexer,col_indexer] = value instead\n",
      "\n",
      "See the caveats in the documentation: http://pandas.pydata.org/pandas-docs/stable/indexing.html#indexing-view-versus-copy\n",
      "  \"\"\"\n",
      "c:\\users\\dell\\appdata\\local\\programs\\python\\python37\\lib\\site-packages\\ipykernel_launcher.py:5: SettingWithCopyWarning: \n",
      "A value is trying to be set on a copy of a slice from a DataFrame.\n",
      "Try using .loc[row_indexer,col_indexer] = value instead\n",
      "\n",
      "See the caveats in the documentation: http://pandas.pydata.org/pandas-docs/stable/indexing.html#indexing-view-versus-copy\n",
      "  \"\"\"\n",
      "c:\\users\\dell\\appdata\\local\\programs\\python\\python37\\lib\\site-packages\\ipykernel_launcher.py:5: SettingWithCopyWarning: \n",
      "A value is trying to be set on a copy of a slice from a DataFrame.\n",
      "Try using .loc[row_indexer,col_indexer] = value instead\n",
      "\n",
      "See the caveats in the documentation: http://pandas.pydata.org/pandas-docs/stable/indexing.html#indexing-view-versus-copy\n",
      "  \"\"\"\n"
     ]
    }
   ],
   "source": [
    "for i in np.arange(len(df1.columns)):\n",
    "    sc=StandardScaler()\n",
    "    cl=df1.columns[i]\n",
    "    sc.fit(df1[cl].values.reshape(-1,1))\n",
    "    df2[cl]=sc.transform(df2[cl].values.reshape(-1,1))"
   ]
  },
  {
   "cell_type": "markdown",
   "metadata": {},
   "source": [
    "# model_fitting"
   ]
  },
  {
   "cell_type": "code",
   "execution_count": 16,
   "metadata": {},
   "outputs": [],
   "source": [
    "x=df1.values"
   ]
  },
  {
   "cell_type": "code",
   "execution_count": 17,
   "metadata": {},
   "outputs": [],
   "source": [
    "x_train,x_test,y_train,y_test=train_test_split(x,y,test_size=0.20,random_state=42)"
   ]
  },
  {
   "cell_type": "code",
   "execution_count": 18,
   "metadata": {},
   "outputs": [
    {
     "name": "stdout",
     "output_type": "stream",
     "text": [
      "[15:30:01] WARNING: C:/Jenkins/workspace/xgboost-win64_release_0.90/src/objective/regression_obj.cu:152: reg:linear is now deprecated in favor of reg:squarederror.\n"
     ]
    },
    {
     "data": {
      "text/plain": [
       "XGBRegressor(base_score=0.5, booster='gbtree', colsample_bylevel=1,\n",
       "       colsample_bynode=1, colsample_bytree=0.2, gamma=0.2,\n",
       "       importance_type='gain', learning_rate=0.3, max_delta_step=0,\n",
       "       max_depth=15, min_child_weight=3, missing=None, n_estimators=100,\n",
       "       n_jobs=1, nthread=None, objective='reg:linear', random_state=0,\n",
       "       reg_alpha=0, reg_lambda=1, scale_pos_weight=1, seed=None,\n",
       "       silent=None, subsample=1, verbosity=1)"
      ]
     },
     "execution_count": 18,
     "metadata": {},
     "output_type": "execute_result"
    }
   ],
   "source": [
    "model_le=xgb.XGBRegressor(base_score=0.5, booster='gbtree', colsample_bylevel=1,\n",
    "       colsample_bynode=1, colsample_bytree=.2, gamma=0.2,\n",
    "       importance_type='gain', learning_rate=0.3, max_delta_step=0,\n",
    "       max_depth=15, min_child_weight=3, missing=None, n_estimators=100,\n",
    "       n_jobs=1, nthread=None, objective='reg:linear', random_state=0,\n",
    "       reg_alpha=0, reg_lambda=1, scale_pos_weight=1, seed=None,\n",
    "       silent=None, subsample=1, verbosity=1)\n",
    "model_le.fit(x_train,y_train)"
   ]
  },
  {
   "cell_type": "raw",
   "metadata": {},
   "source": [
    "model_le=xgb.XGBClassifier(base_score=0.5, booster='gbtree', colsample_bylevel=1,\n",
    "       colsample_bynode=1, colsample_bytree=1, gamma=0, learning_rate=0.2,\n",
    "       max_delta_step=0, max_depth=15, min_child_weight=3, missing=None,\n",
    "       n_estimators=100, n_jobs=1, nthread=None,\n",
    "       objective='multi:softprob', random_state=0, reg_alpha=0,\n",
    "       reg_lambda=1, scale_pos_weight=1, seed=None, silent=None,\n",
    "       subsample=1, verbosity=1)\n",
    "model_le.fit(x_train,y_train)"
   ]
  },
  {
   "cell_type": "code",
   "execution_count": 19,
   "metadata": {},
   "outputs": [],
   "source": [
    "y_pre=model_le.predict(x_train)"
   ]
  },
  {
   "cell_type": "code",
   "execution_count": 20,
   "metadata": {},
   "outputs": [
    {
     "data": {
      "text/plain": [
       "0.4159397303727201"
      ]
     },
     "execution_count": 20,
     "metadata": {},
     "output_type": "execute_result"
    }
   ],
   "source": [
    "accuracy_score(numriser(y_pre),numriser(y_train))"
   ]
  },
  {
   "cell_type": "code",
   "execution_count": 25,
   "metadata": {},
   "outputs": [
    {
     "data": {
      "text/plain": [
       "0.1774960380348653"
      ]
     },
     "execution_count": 25,
     "metadata": {},
     "output_type": "execute_result"
    }
   ],
   "source": [
    "y_pre1=model_le.predict(x_test)\n",
    "accuracy_score(numriser(y_pre1),numriser(y_test))"
   ]
  },
  {
   "cell_type": "code",
   "execution_count": 26,
   "metadata": {},
   "outputs": [
    {
     "data": {
      "text/plain": [
       "<matplotlib.legend.Legend at 0x1e63bc52b38>"
      ]
     },
     "execution_count": 26,
     "metadata": {},
     "output_type": "execute_result"
    },
    {
     "data": {
      "image/png": "[encoded data removed]",
      "text/plain": [
       "<Figure size 1080x360 with 1 Axes>"
      ]
     },
     "metadata": {
      "needs_background": "light"
     },
     "output_type": "display_data"
    }
   ],
   "source": [
    "df_pre=DataFrame([y_pre1,y_test],index=[\"predicted\",\"observed\"]).T\n",
    "df_pre[\"predicted\"].plot(kind=\"kde\",label=True,figsize=(15,5),alpha=1)\n",
    "df_pre[\"observed\"].plot(kind=\"kde\",label=True,figsize=(15,5),alpha=1)\n",
    "plt.title(\"predicted label of happiness\",fontsize=20)\n",
    "plt.xlabel(\"labels of happiness \",fontsize=20)\n",
    "plt.ylabel(\"frequency\",fontsize=20)\n",
    "plt.legend([\"predicted\",\"observed\"])"
   ]
  },
  {
   "cell_type": "code",
   "execution_count": 27,
   "metadata": {},
   "outputs": [
    {
     "data": {
      "text/plain": [
       "<matplotlib.legend.Legend at 0x1e63be5e240>"
      ]
     },
     "execution_count": 27,
     "metadata": {},
     "output_type": "execute_result"
    },
    {
     "data": {
      "image/png": "[encoded data removed]",
      "text/plain": [
       "<Figure size 1440x360 with 1 Axes>"
      ]
     },
     "metadata": {
      "needs_background": "light"
     },
     "output_type": "display_data"
    }
   ],
   "source": [
    "df_pre[\"predicted\"][1:100].plot(figsize=(20,5))\n",
    "df_pre[\"observed\"][1:100].plot(figsize=(20,5))\n",
    "plt.title(\"predicted age and observerd age classification\",fontsize=20)\n",
    "plt.xlabel(\"people \",fontsize=20)\n",
    "plt.ylabel(\"age\",fontsize=20)\n",
    "plt.legend([\"predicted\",\"observed\"])"
   ]
  },
  {
   "cell_type": "code",
   "execution_count": 28,
   "metadata": {},
   "outputs": [
    {
     "data": {
      "text/plain": [
       "199.62509038348415"
      ]
     },
     "execution_count": 28,
     "metadata": {},
     "output_type": "execute_result"
    }
   ],
   "source": [
    "(mean_squared_error(y_pre1,y_test))"
   ]
  },
  {
   "cell_type": "markdown",
   "metadata": {},
   "source": [
    "# clinical_life_table"
   ]
  },
  {
   "cell_type": "code",
   "execution_count": 21,
   "metadata": {},
   "outputs": [],
   "source": [
    "df_c=df2[[\"month_of_death\",\"year_of_death\",\"age_of_death_above_one_year\"]]"
   ]
  },
  {
   "cell_type": "code",
   "execution_count": 22,
   "metadata": {},
   "outputs": [
    {
     "name": "stderr",
     "output_type": "stream",
     "text": [
      "c:\\users\\dell\\appdata\\local\\programs\\python\\python37\\lib\\site-packages\\ipykernel_launcher.py:1: SettingWithCopyWarning: \n",
      "A value is trying to be set on a copy of a slice from a DataFrame.\n",
      "Try using .loc[row_indexer,col_indexer] = value instead\n",
      "\n",
      "See the caveats in the documentation: http://pandas.pydata.org/pandas-docs/stable/indexing.html#indexing-view-versus-copy\n",
      "  \"\"\"Entry point for launching an IPython kernel.\n"
     ]
    }
   ],
   "source": [
    "df_c[\"interval\"]=np.zeros(len(df_c[\"month_of_death\"]))"
   ]
  },
  {
   "cell_type": "code",
   "execution_count": 23,
   "metadata": {},
   "outputs": [
    {
     "data": {
      "text/html": [
       "<div>\n",
       "<style scoped>\n",
       "    .dataframe tbody tr th:only-of-type {\n",
       "        vertical-align: middle;\n",
       "    }\n",
       "\n",
       "    .dataframe tbody tr th {\n",
       "        vertical-align: top;\n",
       "    }\n",
       "\n",
       "    .dataframe thead th {\n",
       "        text-align: right;\n",
       "    }\n",
       "</style>\n",
       "<table border=\"1\" class=\"dataframe\">\n",
       "  <thead>\n",
       "    <tr style=\"text-align: right;\">\n",
       "      <th></th>\n",
       "      <th>month_of_death</th>\n",
       "      <th>year_of_death</th>\n",
       "      <th>age_of_death_above_one_year</th>\n",
       "      <th>interval</th>\n",
       "    </tr>\n",
       "  </thead>\n",
       "  <tbody>\n",
       "    <tr>\n",
       "      <th>0</th>\n",
       "      <td>0.0</td>\n",
       "      <td>2011.0</td>\n",
       "      <td>51.0</td>\n",
       "      <td>0.0</td>\n",
       "    </tr>\n",
       "    <tr>\n",
       "      <th>1</th>\n",
       "      <td>0.0</td>\n",
       "      <td>2011.0</td>\n",
       "      <td>67.0</td>\n",
       "      <td>0.0</td>\n",
       "    </tr>\n",
       "  </tbody>\n",
       "</table>\n",
       "</div>"
      ],
      "text/plain": [
       "   month_of_death  year_of_death  age_of_death_above_one_year  interval\n",
       "0             0.0         2011.0                         51.0       0.0\n",
       "1             0.0         2011.0                         67.0       0.0"
      ]
     },
     "execution_count": 23,
     "metadata": {},
     "output_type": "execute_result"
    }
   ],
   "source": [
    "df_c.head(2)"
   ]
  },
  {
   "cell_type": "code",
   "execution_count": 24,
   "metadata": {},
   "outputs": [],
   "source": [
    "mon=np.unique(df_c[\"month_of_death\"])\n",
    "year=np.unique(df_c[\"year_of_death\"])"
   ]
  },
  {
   "cell_type": "code",
   "execution_count": 25,
   "metadata": {},
   "outputs": [],
   "source": [
    "df_c1=df_c"
   ]
  },
  {
   "cell_type": "code",
   "execution_count": 26,
   "metadata": {},
   "outputs": [
    {
     "name": "stderr",
     "output_type": "stream",
     "text": [
      "c:\\users\\dell\\appdata\\local\\programs\\python\\python37\\lib\\site-packages\\ipykernel_launcher.py:5: SettingWithCopyWarning: \n",
      "A value is trying to be set on a copy of a slice from a DataFrame\n",
      "\n",
      "See the caveats in the documentation: http://pandas.pydata.org/pandas-docs/stable/indexing.html#indexing-view-versus-copy\n",
      "  \"\"\"\n"
     ]
    }
   ],
   "source": [
    "s1=1\n",
    "for i in year:\n",
    "    for j in mon[1:]:\n",
    "        indx=inret(i,j)\n",
    "        df_c=substi(indx,s1)\n",
    "        s1=s1+1\n",
    "        #print(s1)"
   ]
  },
  {
   "cell_type": "code",
   "execution_count": 27,
   "metadata": {},
   "outputs": [],
   "source": [
    "sum1=[]\n",
    "for i in np.arange(len(df_c[\"interval\"])):\n",
    "    if df_c[\"interval\"][i]==0:\n",
    "        sum1=np.append(sum1,i)"
   ]
  },
  {
   "cell_type": "code",
   "execution_count": 29,
   "metadata": {},
   "outputs": [],
   "source": [
    "df_c=df_c.drop(sum1)"
   ]
  },
  {
   "cell_type": "code",
   "execution_count": 30,
   "metadata": {},
   "outputs": [],
   "source": [
    "d=[]\n",
    "for i in np.arange(1,len(np.unique(df_c[\"interval\"]))+1):\n",
    "                d=np.append(d,sum(pd.get_dummies(df_c[\"interval\"])[i]))"
   ]
  },
  {
   "cell_type": "code",
   "execution_count": 31,
   "metadata": {},
   "outputs": [
    {
     "data": {
      "text/plain": [
       "3025"
      ]
     },
     "execution_count": 31,
     "metadata": {},
     "output_type": "execute_result"
    }
   ],
   "source": [
    "s=len(df_c[\"interval\"].values)\n",
    "s"
   ]
  },
  {
   "cell_type": "code",
   "execution_count": 32,
   "metadata": {},
   "outputs": [],
   "source": [
    "s=len(df_c[\"interval\"].values)\n",
    "cs=[s]\n",
    "for i in np.arange(1,49):\n",
    "    cs1=s-d[i-1]\n",
    "    cs=np.append(cs,cs1)\n",
    "    s=cs1"
   ]
  },
  {
   "cell_type": "code",
   "execution_count": 33,
   "metadata": {},
   "outputs": [],
   "source": [
    "clt=DataFrame([np.arange(1,49),cs,d],index=[\"age interval\",\"cum_sum\",\"deaths\"]).T"
   ]
  },
  {
   "cell_type": "code",
   "execution_count": 34,
   "metadata": {},
   "outputs": [],
   "source": [
    "qt=clt[\"deaths\"]/clt[\"cum_sum\"]\n",
    "pt=(np.ones(len(qt))-qt)"
   ]
  },
  {
   "cell_type": "code",
   "execution_count": 35,
   "metadata": {},
   "outputs": [],
   "source": [
    "clt[\"qt\"]=qt\n",
    "clt[\"pt\"]=pt"
   ]
  },
  {
   "cell_type": "code",
   "execution_count": 36,
   "metadata": {},
   "outputs": [],
   "source": [
    "clt[\"Pt\"]=np.ones(len(qt))"
   ]
  },
  {
   "cell_type": "code",
   "execution_count": 37,
   "metadata": {},
   "outputs": [],
   "source": [
    "for i in np.arange(0,47):\n",
    "    clt[\"Pt\"][i+1]=(clt[\"pt\"][i]*clt[\"Pt\"][i])"
   ]
  },
  {
   "cell_type": "code",
   "execution_count": 38,
   "metadata": {},
   "outputs": [],
   "source": [
    "clt=clt.drop(48)"
   ]
  },
  {
   "cell_type": "code",
   "execution_count": 89,
   "metadata": {},
   "outputs": [
    {
     "data": {
      "text/plain": [
       "<matplotlib.legend.Legend at 0x2cae2fd07f0>"
      ]
     },
     "execution_count": 89,
     "metadata": {},
     "output_type": "execute_result"
    },
    {
     "data": {
      "image/png": "[encoded data removed]",
      "text/plain": [
       "<Figure size 864x360 with 1 Axes>"
      ]
     },
     "metadata": {
      "needs_background": "light"
     },
     "output_type": "display_data"
    }
   ],
   "source": [
    "clt[\"Pt\"].plot(figsize=(12,5))\n",
    "plt.title(\"survival_rate\",fontsize=20)\n",
    "plt.xlabel(\"months \",fontsize=20)\n",
    "plt.ylabel(\"prob_of_remission\",fontsize=20)\n",
    "plt.legend([\"survival_odisha\"])"
   ]
  },
  {
   "cell_type": "code",
   "execution_count": 39,
   "metadata": {},
   "outputs": [],
   "source": [
    "df_p=pd.read_csv(\"ahs-mort-bihar-patna.csv\")"
   ]
  },
  {
   "cell_type": "code",
   "execution_count": 40,
   "metadata": {},
   "outputs": [],
   "source": [
    "df_cb=df_p[[\"month_of_death\",\"year_of_death\",\"age_of_death_above_one_year\"]]"
   ]
  },
  {
   "cell_type": "code",
   "execution_count": 41,
   "metadata": {},
   "outputs": [
    {
     "name": "stderr",
     "output_type": "stream",
     "text": [
      "c:\\users\\dell\\appdata\\local\\programs\\python\\python37\\lib\\site-packages\\ipykernel_launcher.py:10: SettingWithCopyWarning: \n",
      "A value is trying to be set on a copy of a slice from a DataFrame.\n",
      "Try using .loc[row_indexer,col_indexer] = value instead\n",
      "\n",
      "See the caveats in the documentation: http://pandas.pydata.org/pandas-docs/stable/indexing.html#indexing-view-versus-copy\n",
      "  # Remove the CWD from sys.path while we load stuff.\n"
     ]
    }
   ],
   "source": [
    "r0=(np.mean(df1))\n",
    "r1=r0.index\n",
    "r2=r0.values\n",
    "df2=df_cb\n",
    "df_cb=replacer_mean(df2)"
   ]
  },
  {
   "cell_type": "code",
   "execution_count": 42,
   "metadata": {},
   "outputs": [],
   "source": [
    "mon1=np.unique(df_cb[\"month_of_death\"])\n",
    "year1=np.unique(df_cb[\"year_of_death\"])"
   ]
  },
  {
   "cell_type": "code",
   "execution_count": 43,
   "metadata": {},
   "outputs": [],
   "source": [
    "def substi_b(ar,s):\n",
    "    n=len(ar)\n",
    "    sum1=0\n",
    "    for i in np.arange(n):\n",
    "        j=ar[i]\n",
    "        df_cb1[\"interval\"][j]=s\n",
    "        #sum1=sum1+ar[i]\n",
    "    return(df_c1)\n",
    "def inret_b(y,m):\n",
    "    return(np.where((df_cb1[\"year_of_death\"]==y) & (df_cb1[\"month_of_death\"]==m))[0])"
   ]
  },
  {
   "cell_type": "code",
   "execution_count": 51,
   "metadata": {},
   "outputs": [
    {
     "name": "stderr",
     "output_type": "stream",
     "text": [
      "c:\\users\\dell\\appdata\\local\\programs\\python\\python37\\lib\\site-packages\\ipykernel_launcher.py:1: SettingWithCopyWarning: \n",
      "A value is trying to be set on a copy of a slice from a DataFrame.\n",
      "Try using .loc[row_indexer,col_indexer] = value instead\n",
      "\n",
      "See the caveats in the documentation: http://pandas.pydata.org/pandas-docs/stable/indexing.html#indexing-view-versus-copy\n",
      "  \"\"\"Entry point for launching an IPython kernel.\n",
      "c:\\users\\dell\\appdata\\local\\programs\\python\\python37\\lib\\site-packages\\ipykernel_launcher.py:12: SettingWithCopyWarning: \n",
      "A value is trying to be set on a copy of a slice from a DataFrame\n",
      "\n",
      "See the caveats in the documentation: http://pandas.pydata.org/pandas-docs/stable/indexing.html#indexing-view-versus-copy\n",
      "  if sys.path[0] == '':\n"
     ]
    }
   ],
   "source": [
    "df_cb[\"interval\"]=np.zeros(len(df_cb[\"month_of_death\"]))\n",
    "\n",
    "mon1=np.unique(df_cb[\"month_of_death\"])\n",
    "year1=np.unique(df_cb[\"year_of_death\"])\n",
    "\n",
    "df_cb1=df_cb\n",
    "\n",
    "s1=1\n",
    "for i in year:\n",
    "    for j in mon[1:]:\n",
    "        indx=inret_b(i,j)\n",
    "        df_cb=substi_b(indx,s1)\n",
    "        s1=s1+1"
   ]
  },
  {
   "cell_type": "code",
   "execution_count": 52,
   "metadata": {},
   "outputs": [],
   "source": [
    "sum1=[]\n",
    "for i in np.arange(len(df_c1[\"interval\"])):\n",
    "    if df_cb1[\"interval\"][i]==0:\n",
    "        sum1=np.append(sum1,i)"
   ]
  },
  {
   "cell_type": "code",
   "execution_count": 53,
   "metadata": {},
   "outputs": [],
   "source": [
    "df_cb1=df_cb1.drop(sum1)"
   ]
  },
  {
   "cell_type": "code",
   "execution_count": 54,
   "metadata": {},
   "outputs": [
    {
     "data": {
      "text/plain": [
       "<matplotlib.legend.Legend at 0x1be1a76af28>"
      ]
     },
     "execution_count": 54,
     "metadata": {},
     "output_type": "execute_result"
    },
    {
     "data": {
      "image/png": "[encoded data removed]",
      "text/plain": [
       "<Figure size 864x360 with 1 Axes>"
      ]
     },
     "metadata": {
      "needs_background": "light"
     },
     "output_type": "display_data"
    }
   ],
   "source": [
    "d=[]\n",
    "for i in np.arange(1,len(np.unique(df_cb1[\"interval\"]))):\n",
    "                d=np.append(d,sum(pd.get_dummies(df_cb1[\"interval\"])[i]))\n",
    "s=len(df_cb1[\"interval\"].values)\n",
    "cs=[s]\n",
    "for i in np.arange(1,49):\n",
    "    cs1=s-d[i-1]\n",
    "    cs=np.append(cs,cs1)\n",
    "    s=cs1\n",
    "\n",
    "clt_b=DataFrame([np.arange(1,49),cs,d],index=[\"age interval\",\"cum_sum\",\"deaths\"]).T\n",
    "\n",
    "qt_b=clt_b[\"deaths\"]/clt_b[\"cum_sum\"]\n",
    "pt_b=(np.ones(len(qt_b))-qt_b)\n",
    "\n",
    "clt_b[\"qt\"]=qt_b\n",
    "clt_b[\"pt\"]=pt_b\n",
    "\n",
    "clt_b[\"Pt\"]=np.ones(len(qt_b))\n",
    "\n",
    "for i in np.arange(0,47):\n",
    "    clt_b[\"Pt\"][i+1]=(clt_b[\"pt\"][i]*clt_b[\"Pt\"][i])\n",
    "\n",
    "clt_b=clt_b.drop(48)\n",
    "\n",
    "clt_b[\"Pt\"].plot(figsize=(12,5))\n",
    "clt[\"Pt\"].plot(figsize=(12,5))\n",
    "plt.title(\"survival_rate\",fontsize=20)\n",
    "plt.xlabel(\"months \",fontsize=20)\n",
    "plt.ylabel(\"prob._of_remission\",fontsize=20)\n",
    "plt.legend([\"survival_Bihar(patna)\",\"survival_odisha(sundargadh)\"])"
   ]
  },
  {
   "cell_type": "code",
   "execution_count": 56,
   "metadata": {},
   "outputs": [
    {
     "data": {
      "text/html": [
       "<div>\n",
       "<style scoped>\n",
       "    .dataframe tbody tr th:only-of-type {\n",
       "        vertical-align: middle;\n",
       "    }\n",
       "\n",
       "    .dataframe tbody tr th {\n",
       "        vertical-align: top;\n",
       "    }\n",
       "\n",
       "    .dataframe thead th {\n",
       "        text-align: right;\n",
       "    }\n",
       "</style>\n",
       "<table border=\"1\" class=\"dataframe\">\n",
       "  <thead>\n",
       "    <tr style=\"text-align: right;\">\n",
       "      <th></th>\n",
       "      <th>age interval</th>\n",
       "      <th>cum_sum</th>\n",
       "      <th>deaths</th>\n",
       "      <th>qt</th>\n",
       "      <th>pt</th>\n",
       "      <th>Pt</th>\n",
       "      <th>o</th>\n",
       "    </tr>\n",
       "  </thead>\n",
       "  <tbody>\n",
       "    <tr>\n",
       "      <th>0</th>\n",
       "      <td>1.0</td>\n",
       "      <td>2741.0</td>\n",
       "      <td>68.0</td>\n",
       "      <td>0.024808</td>\n",
       "      <td>0.975192</td>\n",
       "      <td>1.000000</td>\n",
       "      <td>1.000000</td>\n",
       "    </tr>\n",
       "    <tr>\n",
       "      <th>1</th>\n",
       "      <td>2.0</td>\n",
       "      <td>2673.0</td>\n",
       "      <td>61.0</td>\n",
       "      <td>0.022821</td>\n",
       "      <td>0.977179</td>\n",
       "      <td>0.975192</td>\n",
       "      <td>0.955702</td>\n",
       "    </tr>\n",
       "  </tbody>\n",
       "</table>\n",
       "</div>"
      ],
      "text/plain": [
       "   age interval  cum_sum  deaths        qt        pt        Pt         o\n",
       "0           1.0   2741.0    68.0  0.024808  0.975192  1.000000  1.000000\n",
       "1           2.0   2673.0    61.0  0.022821  0.977179  0.975192  0.955702"
      ]
     },
     "execution_count": 56,
     "metadata": {},
     "output_type": "execute_result"
    }
   ],
   "source": [
    "clt_ob=clt_b\n",
    "clt_ob[\"o\"]=clt[\"Pt\"].values\n",
    "clt_ob.head(2)"
   ]
  },
  {
   "cell_type": "markdown",
   "metadata": {},
   "source": [
    "# EDA"
   ]
  },
  {
   "cell_type": "code",
   "execution_count": 249,
   "metadata": {},
   "outputs": [],
   "source": [
    "#univariate_analysis"
   ]
  },
  {
   "cell_type": "code",
   "execution_count": 41,
   "metadata": {},
   "outputs": [
    {
     "data": {
      "text/plain": [
       "Index(['rural', 'stratum_code', 'deceased_sex', 'treatment_source',\n",
       "       'place_of_death', 'member_identity', 'social_group_code',\n",
       "       'marital_status', 'year_of_marriage', 'highest_qualification',\n",
       "       'occupation_status', 'disability_status', 'chew', 'smoke', 'alcohol',\n",
       "       'house_structure', 'drinking_water_source',\n",
       "       'household_have_electricity', 'lighting_source', 'cooking_fuel',\n",
       "       'no_of_dwelling_rooms'],\n",
       "      dtype='object')"
      ]
     },
     "execution_count": 41,
     "metadata": {},
     "output_type": "execute_result"
    }
   ],
   "source": [
    "df1.columns"
   ]
  },
  {
   "cell_type": "code",
   "execution_count": 42,
   "metadata": {},
   "outputs": [
    {
     "data": {
      "text/plain": [
       "<matplotlib.axes._subplots.AxesSubplot at 0x140f3a06278>"
      ]
     },
     "execution_count": 42,
     "metadata": {},
     "output_type": "execute_result"
    },
    {
     "data": {
      "image/png": "[encoded data removed]",
      "text/plain": [
       "<Figure size 648x360 with 1 Axes>"
      ]
     },
     "metadata": {
      "needs_background": "light"
     },
     "output_type": "display_data"
    }
   ],
   "source": [
    "df1[\"no_of_dwelling_rooms\"].plot(kind=\"hist\",figsize=(9,5),color=\"red\")"
   ]
  },
  {
   "cell_type": "code",
   "execution_count": 43,
   "metadata": {},
   "outputs": [
    {
     "data": {
      "text/plain": [
       "<matplotlib.legend.Legend at 0x140f6facba8>"
      ]
     },
     "execution_count": 43,
     "metadata": {},
     "output_type": "execute_result"
    },
    {
     "data": {
      "image/png": "[encoded data removed]",
      "text/plain": [
       "<Figure size 432x288 with 1 Axes>"
      ]
     },
     "metadata": {},
     "output_type": "display_data"
    }
   ],
   "source": [
    "g=[sum(pd.get_dummies(df[\"smoke\"])[\"Ex - Smoker\"]),sum(pd.get_dummies(df[\"smoke\"])[\"Never smoked\"]),sum(pd.get_dummies(df[\"smoke\"])[\"Not known\"]),\n",
    "                                          sum(pd.get_dummies(df[\"smoke\"])[\"Occasional smoker\"]),\n",
    "                                          sum(pd.get_dummies(df[\"smoke\"])[\"Usual smoker\"])]\n",
    "labels=[\"EX_smokers\",\"Never smoked\",\"not known\",\"Occasional smoker\",\"Occasional smoker\"]\n",
    "pie=plt.pie(g,radius=1.5,shadow=True,autopct='%1.1f%%')\n",
    "plt.legend(pie[0], labels, loc=\"best\")"
   ]
  },
  {
   "cell_type": "code",
   "execution_count": 44,
   "metadata": {},
   "outputs": [
    {
     "data": {
      "text/plain": [
       "<matplotlib.axes._subplots.AxesSubplot at 0x140f3ae2048>"
      ]
     },
     "execution_count": 44,
     "metadata": {},
     "output_type": "execute_result"
    },
    {
     "data": {
      "image/png": "[encoded data removed]",
      "text/plain": [
       "<Figure size 648x360 with 1 Axes>"
      ]
     },
     "metadata": {
      "needs_background": "light"
     },
     "output_type": "display_data"
    }
   ],
   "source": [
    "df1[\"chew\"].plot(kind=\"hist\",figsize=(9,5),color=\"brown\")"
   ]
  },
  {
   "cell_type": "code",
   "execution_count": 57,
   "metadata": {},
   "outputs": [],
   "source": [
    "df_anova=(pd.get_dummies(df[\"chew\"]))"
   ]
  },
  {
   "cell_type": "code",
   "execution_count": 58,
   "metadata": {},
   "outputs": [],
   "source": [
    "#anova"
   ]
  },
  {
   "cell_type": "code",
   "execution_count": 59,
   "metadata": {},
   "outputs": [],
   "source": [
    "import statsmodels.api as sm\n",
    "from statsmodels.formula.api import ol"
   ]
  },
  {
   "cell_type": "code",
   "execution_count": 60,
   "metadata": {},
   "outputs": [],
   "source": [
    "from statsmodels.formula.api import ols"
   ]
  },
  {
   "cell_type": "code",
   "execution_count": 61,
   "metadata": {},
   "outputs": [
    {
     "data": {
      "text/plain": [
       "Index(['month_of_death', 'year_of_death', 'age_of_death_above_one_year',\n",
       "       'interval'],\n",
       "      dtype='object')"
      ]
     },
     "execution_count": 61,
     "metadata": {},
     "output_type": "execute_result"
    }
   ],
   "source": [
    "df2.columns"
   ]
  },
  {
   "cell_type": "code",
   "execution_count": 62,
   "metadata": {},
   "outputs": [],
   "source": [
    "lm=ols(\" age_of_death_above_one_year ~ chew\",data=df).fit()"
   ]
  },
  {
   "cell_type": "code",
   "execution_count": 63,
   "metadata": {},
   "outputs": [],
   "source": [
    "table=sm.stats.anova_lm(lm)"
   ]
  },
  {
   "cell_type": "code",
   "execution_count": 64,
   "metadata": {},
   "outputs": [
    {
     "name": "stdout",
     "output_type": "stream",
     "text": [
      "              df        sum_sq      mean_sq         F    PR(>F)\n",
      "chew         7.0  7.514543e+03  1073.506153  2.108361  0.039596\n",
      "Residual  2680.0  1.364565e+06   509.166122       NaN       NaN\n"
     ]
    }
   ],
   "source": [
    "print(table)"
   ]
  },
  {
   "cell_type": "code",
   "execution_count": 95,
   "metadata": {},
   "outputs": [
    {
     "name": "stdout",
     "output_type": "stream",
     "text": [
      "              df        sum_sq     mean_sq         F    PR(>F)\n",
      "smoke        4.0  1.628744e+03  407.186006  0.797168  0.526877\n",
      "Residual  2683.0  1.370451e+06  510.790535       NaN       NaN\n"
     ]
    }
   ],
   "source": [
    "lm=ols(\" age_of_death_above_one_year ~ smoke\",data=df).fit()\n",
    "table=sm.stats.anova_lm(lm)\n",
    "print(table)"
   ]
  },
  {
   "cell_type": "code",
   "execution_count": 96,
   "metadata": {},
   "outputs": [
    {
     "name": "stdout",
     "output_type": "stream",
     "text": [
      "                  df        sum_sq      mean_sq         F   PR(>F)\n",
      "cooking_fuel     7.0  1.709065e+04  2441.520859  4.836792  0.00002\n",
      "Residual      2686.0  1.355842e+06   504.781068       NaN      NaN\n"
     ]
    }
   ],
   "source": [
    "lm=ols(\" age_of_death_above_one_year ~ cooking_fuel\",data=df).fit()\n",
    "table=sm.stats.anova_lm(lm)\n",
    "print(table)"
   ]
  },
  {
   "cell_type": "code",
   "execution_count": 97,
   "metadata": {},
   "outputs": [
    {
     "name": "stdout",
     "output_type": "stream",
     "text": [
      "              df        sum_sq      mean_sq         F   PR(>F)\n",
      "alcohol      4.0  1.446288e+04  3615.720707  7.145594  0.00001\n",
      "Residual  2683.0  1.357617e+06   506.007032       NaN      NaN\n"
     ]
    }
   ],
   "source": [
    "lm=ols(\" age_of_death_above_one_year ~ alcohol\",data=df).fit()\n",
    "table=sm.stats.anova_lm(lm)\n",
    "print(table)"
   ]
  },
  {
   "cell_type": "code",
   "execution_count": 99,
   "metadata": {},
   "outputs": [
    {
     "name": "stdout",
     "output_type": "stream",
     "text": [
      "                       df        sum_sq       mean_sq          F        PR(>F)\n",
      "social_group_code     2.0  2.345442e+04  11727.209987  23.415268  8.261362e-11\n",
      "Residual           2732.0  1.368284e+06    500.836025        NaN           NaN\n"
     ]
    }
   ],
   "source": [
    "lm=ols(\" age_of_death_above_one_year ~ social_group_code\",data=df).fit()\n",
    "table=sm.stats.anova_lm(lm)\n",
    "print(table)"
   ]
  },
  {
   "cell_type": "code",
   "execution_count": 74,
   "metadata": {},
   "outputs": [],
   "source": [
    "#df1[\"smoke\"]\n",
    "df2=df1"
   ]
  },
  {
   "cell_type": "code",
   "execution_count": 78,
   "metadata": {},
   "outputs": [],
   "source": [
    "ty=np.unique(df2[\"smoke\"])\n"
   ]
  },
  {
   "cell_type": "code",
   "execution_count": 104,
   "metadata": {},
   "outputs": [],
   "source": [
    "ty=np.unique(df2[\"smoke\"])\n",
    "ex_smoker=[]\n",
    "never_smoke=[]\n",
    "not_known=[]\n",
    "occ_smoker=[]\n",
    "usual_smoker=[]\n",
    "for j in np.arange(len(df1[\"smoke\"])):\n",
    "    if int(ty[0])==int(df2[\"smoke\"][j]):\n",
    "        ex_smoker=np.append(ex_smoker,y[j])\n",
    "    if int(ty[1])==int(df2[\"smoke\"][j]):\n",
    "        never_smoke=np.append(never_smoke,y[j])\n",
    "    if int(ty[2])==int(df2[\"smoke\"][j]):\n",
    "        not_known=np.append(not_known,y[j])\n",
    "    if int(ty[3])==int(df2[\"smoke\"][j]):\n",
    "        occ_smoker=np.append(occ_smoker,y[j])\n",
    "    if int(ty[4])==int(df2[\"smoke\"][j]):\n",
    "        usual_smoker=np.append(usual_smoker,y[j])"
   ]
  },
  {
   "cell_type": "code",
   "execution_count": 106,
   "metadata": {},
   "outputs": [
    {
     "data": {
      "text/plain": [
       "Ttest_indResult(statistic=-0.7537677950768323, pvalue=0.45356962152582736)"
      ]
     },
     "execution_count": 106,
     "metadata": {},
     "output_type": "execute_result"
    }
   ],
   "source": [
    "stats.ttest_ind(usual_smoker,never_smoke,equal_var=False)"
   ]
  },
  {
   "cell_type": "code",
   "execution_count": 108,
   "metadata": {},
   "outputs": [
    {
     "data": {
      "text/plain": [
       "[54.05312979242716, 56.2568731718954]"
      ]
     },
     "execution_count": 108,
     "metadata": {},
     "output_type": "execute_result"
    }
   ],
   "source": [
    "[np.mean(usual_smoker),np.mean(never_smoke)]"
   ]
  },
  {
   "cell_type": "markdown",
   "metadata": {},
   "source": [
    "so smoking effects the life expectency of human significantly\n",
    "#on an average it reduces the life time to two years"
   ]
  },
  {
   "cell_type": "code",
   "execution_count": 109,
   "metadata": {},
   "outputs": [
    {
     "data": {
      "text/plain": [
       "Ttest_indResult(statistic=0.9607320774659659, pvalue=0.3375891400306469)"
      ]
     },
     "execution_count": 109,
     "metadata": {},
     "output_type": "execute_result"
    }
   ],
   "source": [
    "stats.ttest_ind(ex_smoker,occ_smoker,equal_var=False)"
   ]
  },
  {
   "cell_type": "code",
   "execution_count": null,
   "metadata": {},
   "outputs": [],
   "source": []
  },
  {
   "cell_type": "code",
   "execution_count": null,
   "metadata": {},
   "outputs": [],
   "source": []
  },
  {
   "cell_type": "code",
   "execution_count": null,
   "metadata": {},
   "outputs": [],
   "source": [
    "\n"
   ]
  },
  {
   "cell_type": "code",
   "execution_count": null,
   "metadata": {},
   "outputs": [],
   "source": []
  }
 ],
 "metadata": {
  "kernelspec": {
   "display_name": "Python 3",
   "language": "python",
   "name": "python3"
  },
  "language_info": {
   "codemirror_mode": {
    "name": "ipython",
    "version": 3
   },
   "file_extension": ".py",
   "mimetype": "text/x-python",
   "name": "python",
   "nbconvert_exporter": "python",
   "pygments_lexer": "ipython3",
   "version": "3.7.1"
  }
 },
 "nbformat": 4,
 "nbformat_minor": 2
}
